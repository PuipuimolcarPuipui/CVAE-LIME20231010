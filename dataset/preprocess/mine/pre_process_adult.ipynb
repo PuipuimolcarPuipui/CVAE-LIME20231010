{
 "cells": [
  {
   "cell_type": "markdown",
   "metadata": {},
   "source": [
    "データの確認"
   ]
  },
  {
   "cell_type": "code",
   "execution_count": 12,
   "metadata": {},
   "outputs": [
    {
     "name": "stdout",
     "output_type": "stream",
     "text": [
      "Train shape: (338, 4)\n"
     ]
    },
    {
     "data": {
      "text/html": [
       "<div>\n",
       "<style scoped>\n",
       "    .dataframe tbody tr th:only-of-type {\n",
       "        vertical-align: middle;\n",
       "    }\n",
       "\n",
       "    .dataframe tbody tr th {\n",
       "        vertical-align: top;\n",
       "    }\n",
       "\n",
       "    .dataframe thead th {\n",
       "        text-align: right;\n",
       "    }\n",
       "</style>\n",
       "<table border=\"1\" class=\"dataframe\">\n",
       "  <thead>\n",
       "    <tr style=\"text-align: right;\">\n",
       "      <th></th>\n",
       "      <th>Voltage</th>\n",
       "      <th>High</th>\n",
       "      <th>Soiltype</th>\n",
       "      <th>Class</th>\n",
       "    </tr>\n",
       "  </thead>\n",
       "  <tbody>\n",
       "    <tr>\n",
       "      <th>0</th>\n",
       "      <td>0.338157</td>\n",
       "      <td>0.000000</td>\n",
       "      <td>0.0</td>\n",
       "      <td>1</td>\n",
       "    </tr>\n",
       "    <tr>\n",
       "      <th>1</th>\n",
       "      <td>0.320241</td>\n",
       "      <td>0.181818</td>\n",
       "      <td>0.0</td>\n",
       "      <td>1</td>\n",
       "    </tr>\n",
       "    <tr>\n",
       "      <th>2</th>\n",
       "      <td>0.287009</td>\n",
       "      <td>0.272727</td>\n",
       "      <td>0.0</td>\n",
       "      <td>1</td>\n",
       "    </tr>\n",
       "    <tr>\n",
       "      <th>3</th>\n",
       "      <td>0.256284</td>\n",
       "      <td>0.454545</td>\n",
       "      <td>0.0</td>\n",
       "      <td>1</td>\n",
       "    </tr>\n",
       "    <tr>\n",
       "      <th>4</th>\n",
       "      <td>0.262840</td>\n",
       "      <td>0.545455</td>\n",
       "      <td>0.0</td>\n",
       "      <td>1</td>\n",
       "    </tr>\n",
       "  </tbody>\n",
       "</table>\n",
       "</div>"
      ],
      "text/plain": [
       "    Voltage      High  Soiltype  Class\n",
       "0  0.338157  0.000000       0.0      1\n",
       "1  0.320241  0.181818       0.0      1\n",
       "2  0.287009  0.272727       0.0      1\n",
       "3  0.256284  0.454545       0.0      1\n",
       "4  0.262840  0.545455       0.0      1"
      ]
     },
     "execution_count": 12,
     "metadata": {},
     "output_type": "execute_result"
    }
   ],
   "source": [
    "import numpy as np\n",
    "import pandas as pd\n",
    "import matplotlib.pyplot as plt\n",
    "import seaborn as sns\n",
    "\n",
    "# データの読み込み\n",
    "train = pd.read_csv('mine_origin.csv')\n",
    "# test = pd.read_csv('output_test.csv')\n",
    "\n",
    "# データサイズの確認\n",
    "print(f'Train shape: {train.shape}')# Test shape: {test.shape}')\n",
    "\n",
    "# 先頭行の出力\n",
    "train.head()\n",
    "# test.head()"
   ]
  },
  {
   "cell_type": "markdown",
   "metadata": {},
   "source": [
    "統計量の確認"
   ]
  },
  {
   "cell_type": "code",
   "execution_count": 13,
   "metadata": {},
   "outputs": [
    {
     "data": {
      "text/html": [
       "<div>\n",
       "<style scoped>\n",
       "    .dataframe tbody tr th:only-of-type {\n",
       "        vertical-align: middle;\n",
       "    }\n",
       "\n",
       "    .dataframe tbody tr th {\n",
       "        vertical-align: top;\n",
       "    }\n",
       "\n",
       "    .dataframe thead th {\n",
       "        text-align: right;\n",
       "    }\n",
       "</style>\n",
       "<table border=\"1\" class=\"dataframe\">\n",
       "  <thead>\n",
       "    <tr style=\"text-align: right;\">\n",
       "      <th></th>\n",
       "      <th>Voltage</th>\n",
       "      <th>High</th>\n",
       "      <th>Soiltype</th>\n",
       "      <th>Class</th>\n",
       "    </tr>\n",
       "  </thead>\n",
       "  <tbody>\n",
       "    <tr>\n",
       "      <th>count</th>\n",
       "      <td>338.000000</td>\n",
       "      <td>338.000000</td>\n",
       "      <td>338.000000</td>\n",
       "      <td>338.000000</td>\n",
       "    </tr>\n",
       "    <tr>\n",
       "      <th>mean</th>\n",
       "      <td>0.430634</td>\n",
       "      <td>0.508876</td>\n",
       "      <td>0.503550</td>\n",
       "      <td>2.952663</td>\n",
       "    </tr>\n",
       "    <tr>\n",
       "      <th>std</th>\n",
       "      <td>0.195819</td>\n",
       "      <td>0.306043</td>\n",
       "      <td>0.344244</td>\n",
       "      <td>1.419703</td>\n",
       "    </tr>\n",
       "    <tr>\n",
       "      <th>min</th>\n",
       "      <td>0.197734</td>\n",
       "      <td>0.000000</td>\n",
       "      <td>0.000000</td>\n",
       "      <td>1.000000</td>\n",
       "    </tr>\n",
       "    <tr>\n",
       "      <th>25%</th>\n",
       "      <td>0.309737</td>\n",
       "      <td>0.272727</td>\n",
       "      <td>0.200000</td>\n",
       "      <td>2.000000</td>\n",
       "    </tr>\n",
       "    <tr>\n",
       "      <th>50%</th>\n",
       "      <td>0.359516</td>\n",
       "      <td>0.545455</td>\n",
       "      <td>0.600000</td>\n",
       "      <td>3.000000</td>\n",
       "    </tr>\n",
       "    <tr>\n",
       "      <th>75%</th>\n",
       "      <td>0.482628</td>\n",
       "      <td>0.727273</td>\n",
       "      <td>0.800000</td>\n",
       "      <td>4.000000</td>\n",
       "    </tr>\n",
       "    <tr>\n",
       "      <th>max</th>\n",
       "      <td>0.999999</td>\n",
       "      <td>1.000000</td>\n",
       "      <td>1.000000</td>\n",
       "      <td>5.000000</td>\n",
       "    </tr>\n",
       "  </tbody>\n",
       "</table>\n",
       "</div>"
      ],
      "text/plain": [
       "          Voltage        High    Soiltype       Class\n",
       "count  338.000000  338.000000  338.000000  338.000000\n",
       "mean     0.430634    0.508876    0.503550    2.952663\n",
       "std      0.195819    0.306043    0.344244    1.419703\n",
       "min      0.197734    0.000000    0.000000    1.000000\n",
       "25%      0.309737    0.272727    0.200000    2.000000\n",
       "50%      0.359516    0.545455    0.600000    3.000000\n",
       "75%      0.482628    0.727273    0.800000    4.000000\n",
       "max      0.999999    1.000000    1.000000    5.000000"
      ]
     },
     "execution_count": 13,
     "metadata": {},
     "output_type": "execute_result"
    }
   ],
   "source": [
    "train.describe(include='all')\n",
    "# test.describe(include='all')"
   ]
  },
  {
   "cell_type": "markdown",
   "metadata": {},
   "source": [
    "相関関係の確認"
   ]
  },
  {
   "cell_type": "code",
   "execution_count": 14,
   "metadata": {},
   "outputs": [
    {
     "data": {
      "image/png": "[encoded data removed]",
      "text/plain": [
       "<Figure size 576x504 with 2 Axes>"
      ]
     },
     "metadata": {
      "needs_background": "light"
     },
     "output_type": "display_data"
    }
   ],
   "source": [
    "#変数間の相関関係のヒートマップ\n",
    "fig = plt.figure(figsize=(8,7))\n",
    "ax = sns.heatmap(train.corr(), annot=True, cmap='BrBG', vmin=-1, vmax=1)\n",
    "\n",
    "#カテゴリ変数とラベルの関係\n",
    "# categorical_feature = ['workclass','education','marital-status','occupation','relationship','race','sex','native-country']\n",
    "# for feature_name in categorical_feature:\n",
    "#     fig = plt.figure(figsize=(30,5))\n",
    "#     plt.xticks(rotation=45, ha=\"right\")\n",
    "#     ax = sns.countplot(x=feature_name, hue='>50K, <=50K.', data=train)\n",
    "plt.show()"
   ]
  },
  {
   "cell_type": "markdown",
   "metadata": {},
   "source": [
    "欠損値とクラスの関係（欠損値がある場合はP.94参照）"
   ]
  },
  {
   "cell_type": "code",
   "execution_count": 15,
   "metadata": {},
   "outputs": [
    {
     "name": "stdout",
     "output_type": "stream",
     "text": [
      "Null of Train: Voltage     0\n",
      "High        0\n",
      "Soiltype    0\n",
      "Class       0\n",
      "dtype: int64\n"
     ]
    }
   ],
   "source": [
    "print(f'Null of Train: {(train.isnull().sum())}')\n",
    "# print(f'Null of Test: {(test.isnull().sum())}')"
   ]
  },
  {
   "cell_type": "markdown",
   "metadata": {},
   "source": [
    "前処理"
   ]
  },
  {
   "cell_type": "code",
   "execution_count": 16,
   "metadata": {},
   "outputs": [],
   "source": [
    "from sklearn.preprocessing import OrdinalEncoder\n",
    "\n",
    "# # カテゴリカル変数の定義\n",
    "# categorical_feature = ['workclass','education','marital-status','occupation','relationship','race','sex','native-country']\n",
    "\n",
    "# # 特徴量エンジニアリング\n",
    "# train = train.dropna(subset=['workclass', 'occupation', 'native-country']) #欠損値があるカラムがあれば指定\n",
    "# test = test.dropna(subset=['workclass', 'occupation', 'native-country']) #欠損値があるカラムがあれば指定\n",
    "\n",
    "# df = pd.concat([train, test])\n",
    "df = train\n",
    "oe = OrdinalEncoder()\n",
    "# df[categorical_feature] = oe.fit_transform(df[categorical_feature]).astype(int)\n",
    "\n",
    "# df['>50K, <=50K.'] = df['>50K, <=50K.'].replace({' <=50K': 0, ' >50K': 1})\n",
    "# df['>50K, <=50K.'] = df['>50K, <=50K.'].replace({' <=50K.': 0, ' >50K.': 1})\n",
    "\n",
    "# データの正規化\n",
    "import pandas as pd\n",
    "# from sklearn.preprocessing import MinMaxScaler\n",
    "\n",
    "# scaler = MinMaxScaler()\n",
    "# df = pd.DataFrame(scaler.fit_transform(df), columns = df.columns)\n",
    "df = df.rename(columns={'Class': 'target'})\n",
    "\n",
    "df['target'] = pd.factorize(df['target'])[0]\n",
    "df_target = df['target']\n",
    "df_without_target = df.drop(columns=['target'])\n",
    "\n",
    "# Fit and transform the data without the target column\n",
    "# df_without_target_scaled = pd.DataFrame(scaler.fit_transform(df_without_target), columns = df_without_target.columns)\n",
    "from sklearn import preprocessing\n",
    "df_without_target_scaled = pd.DataFrame(preprocessing.scale(df_without_target), columns=df_without_target.columns)\n",
    "\n",
    "# Combine the target column and the scaled data\n",
    "df_scaled = pd.concat([df_without_target_scaled, df_target], axis=1)\n",
    "\n",
    "df_scaled.to_csv('mine.csv', index=False)\n",
    "# train = df[df['Survived'].notnull()]#ラベルに欠損値がある場合\n",
    "# test = df[df['Survived'].notnull()].drop(columns=['Survived'])#ラベルに欠損値がある場合"
   ]
  }
 ],
 "metadata": {
  "kernelspec": {
   "display_name": "Python 3",
   "language": "python",
   "name": "python3"
  },
  "language_info": {
   "codemirror_mode": {
    "name": "ipython",
    "version": 3
   },
   "file_extension": ".py",
   "mimetype": "text/x-python",
   "name": "python",
   "nbconvert_exporter": "python",
   "pygments_lexer": "ipython3",
   "version": "3.10.5"
  },
  "orig_nbformat": 4
 },
 "nbformat": 4,
 "nbformat_minor": 2
}
